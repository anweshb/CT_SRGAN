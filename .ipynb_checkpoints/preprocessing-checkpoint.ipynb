{
 "cells": [
  {
   "cell_type": "code",
   "execution_count": 2,
   "id": "29830a5e",
   "metadata": {},
   "outputs": [],
   "source": [
    "import os\n",
    "from PIL import Image\n",
    "import matplotlib.pyplot as plt"
   ]
  },
  {
   "cell_type": "code",
   "execution_count": 12,
   "id": "3ae6fc89",
   "metadata": {},
   "outputs": [],
   "source": [
    "data_dir = '../scratch/lung_images/'\n",
    "original_data_path = os.path.join(data_dir,'original')\n",
    "new_data_path = os.path.join(data_dir, 'data')"
   ]
  },
  {
   "cell_type": "code",
   "execution_count": 14,
   "id": "89fb2d21",
   "metadata": {},
   "outputs": [
    {
     "name": "stdout",
     "output_type": "stream",
     "text": [
      "['.ipynb_checkpoints', 'original', 'data']\n",
      "['covid', 'lung_opacity', 'pneumonia', 'normal']\n",
      "[]\n"
     ]
    }
   ],
   "source": [
    "print(os.listdir(data_dir))\n",
    "print(os.listdir(original_data_path))\n",
    "print(os.listdir(new_data_path))"
   ]
  },
  {
   "cell_type": "code",
   "execution_count": 18,
   "id": "5a90466d",
   "metadata": {},
   "outputs": [
    {
     "name": "stdout",
     "output_type": "stream",
     "text": [
      "covid 1152\n",
      "lung_opacity 6012\n",
      "pneumonia 1345\n",
      "normal 6635\n"
     ]
    }
   ],
   "source": [
    "classes = os.listdir(original_data_path)\n",
    "\n",
    "for c in classes:\n",
    "    print(c, len(os.listdir((os.path.join(original_data_path, c)))))"
   ]
  },
  {
   "cell_type": "code",
   "execution_count": 19,
   "id": "6e6c097c",
   "metadata": {},
   "outputs": [],
   "source": [
    "hr_images_dir = os.path.join(new_data_path, 'hr_images')\n",
    "lr_images_dir = os.path.join(new_data_path, 'lr_images')"
   ]
  },
  {
   "cell_type": "code",
   "execution_count": 20,
   "id": "0a95a421",
   "metadata": {},
   "outputs": [],
   "source": [
    "# os.mkdir(hr_images_dir)\n",
    "# os.mkdir(lr_images_dir)"
   ]
  },
  {
   "cell_type": "code",
   "execution_count": null,
   "id": "4a470fa8",
   "metadata": {},
   "outputs": [],
   "source": []
  }
 ],
 "metadata": {
  "kernelspec": {
   "display_name": "Python 3 (ipykernel)",
   "language": "python",
   "name": "python3"
  },
  "language_info": {
   "codemirror_mode": {
    "name": "ipython",
    "version": 3
   },
   "file_extension": ".py",
   "mimetype": "text/x-python",
   "name": "python",
   "nbconvert_exporter": "python",
   "pygments_lexer": "ipython3",
   "version": "3.7.16"
  }
 },
 "nbformat": 4,
 "nbformat_minor": 5
}
