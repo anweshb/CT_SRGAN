{
 "cells": [
  {
   "cell_type": "code",
   "execution_count": 1,
   "metadata": {},
   "outputs": [],
   "source": [
    "import os\n",
    "import numpy as np\n",
    "from tensorflow.keras.models import load_model\n",
    "from sklearn.model_selection import train_test_split\n",
    "import tensorflow as tf\n",
    "from scipy.ndimage import zoom\n",
    "from skimage.metrics import structural_similarity as calculate_ssim\n",
    "from PIL import Image\n",
    "import matplotlib.pyplot as plt"
   ]
  },
  {
   "cell_type": "code",
   "execution_count": 2,
   "metadata": {},
   "outputs": [],
   "source": [
    "lr_images_path = '../data/lr_images'\n",
    "hr_images_path = '../data/hr_images'"
   ]
  },
  {
   "cell_type": "code",
   "execution_count": 3,
   "metadata": {},
   "outputs": [],
   "source": [
    "lr_filenames = sorted(os.listdir(lr_images_path))[:]\n",
    "hr_filenames = sorted(os.listdir(hr_images_path))[:]\n",
    "\n",
    "# Verify that the filenames match\n",
    "if lr_filenames != hr_filenames:\n",
    "    raise ValueError(\"Filenames in lr_images and hr_images do not match!\")"
   ]
  },
  {
   "cell_type": "code",
   "execution_count": 4,
   "metadata": {},
   "outputs": [],
   "source": [
    "lr_images = []\n",
    "hr_images = []\n",
    "\n",
    "\n",
    "for img_name in lr_filenames:\n",
    "    lr_img = Image.open(os.path.join(lr_images_path, img_name))\n",
    "    hr_img = Image.open(os.path.join(hr_images_path, img_name))\n",
    "    \n",
    "    # Convert grayscale images to RGB format\n",
    "    if lr_img.mode != 'RGB':\n",
    "        lr_img = lr_img.convert('RGB')\n",
    "        \n",
    "    if hr_img.mode != 'RGB':\n",
    "        hr_img = hr_img.convert('RGB')\n",
    "    \n",
    "    lr_img = np.asarray(lr_img)/255.0\n",
    "    hr_img = np.asarray(hr_img)/255.0\n",
    "    \n",
    "    lr_images.append(lr_img)\n",
    "    hr_images.append(hr_img)"
   ]
  },
  {
   "cell_type": "code",
   "execution_count": 5,
   "metadata": {},
   "outputs": [
    {
     "name": "stdout",
     "output_type": "stream",
     "text": [
      "LR Images Array Shape: (15129, 64, 64, 3)\n",
      "HR Images Array Shape: (15129, 128, 128, 3)\n"
     ]
    }
   ],
   "source": [
    "lr_images_array = np.stack(lr_images)\n",
    "hr_images_array = np.stack(hr_images)\n",
    "\n",
    "print(\"LR Images Array Shape:\", lr_images_array.shape)\n",
    "print(\"HR Images Array Shape:\", hr_images_array.shape)"
   ]
  },
  {
   "cell_type": "code",
   "execution_count": 6,
   "metadata": {},
   "outputs": [],
   "source": [
    "# Split the data into training, validation, and test sets\n",
    "random_seed = 42 \n",
    "\n",
    "train_lr_images, val_test_lr_images, train_hr_images, val_test_hr_images = train_test_split(\n",
    "    lr_images_array, hr_images_array, test_size=0.3, random_state=random_seed\n",
    ")\n",
    "\n",
    "val_lr_images, test_lr_images, val_hr_images, test_hr_images = train_test_split(\n",
    "    val_test_lr_images, val_test_hr_images, test_size=0.5, random_state=random_seed\n",
    ")"
   ]
  },
  {
   "cell_type": "code",
   "execution_count": 9,
   "metadata": {},
   "outputs": [
    {
     "name": "stdout",
     "output_type": "stream",
     "text": [
      "Metal device set to: Apple M2\n",
      "\n",
      "systemMemory: 8.00 GB\n",
      "maxCacheSize: 2.67 GB\n",
      "\n"
     ]
    },
    {
     "name": "stderr",
     "output_type": "stream",
     "text": [
      "2023-09-20 11:33:24.732613: I tensorflow/core/common_runtime/pluggable_device/pluggable_device_factory.cc:306] Could not identify NUMA node of platform GPU ID 0, defaulting to 0. Your kernel may not have been built with NUMA support.\n",
      "2023-09-20 11:33:24.734197: I tensorflow/core/common_runtime/pluggable_device/pluggable_device_factory.cc:272] Created TensorFlow device (/job:localhost/replica:0/task:0/device:GPU:0 with 0 MB memory) -> physical PluggableDevice (device: 0, name: METAL, pci bus id: <undefined>)\n"
     ]
    },
    {
     "name": "stdout",
     "output_type": "stream",
     "text": [
      "WARNING:tensorflow:No training configuration found in the save file, so the model was *not* compiled. Compile it manually.\n"
     ]
    }
   ],
   "source": [
    "generator = load_model('results/generator_ckpts/gen_e_8.h5')"
   ]
  },
  {
   "cell_type": "code",
   "execution_count": 10,
   "metadata": {},
   "outputs": [
    {
     "name": "stderr",
     "output_type": "stream",
     "text": [
      "2023-09-20 11:33:26.070286: W tensorflow/core/platform/profile_utils/cpu_utils.cc:128] Failed to get CPU frequency: 0 Hz\n",
      "2023-09-20 11:33:26.282852: I tensorflow/core/grappler/optimizers/custom_graph_optimizer_registry.cc:114] Plugin optimizer for device_type GPU is enabled.\n"
     ]
    },
    {
     "name": "stdout",
     "output_type": "stream",
     "text": [
      "71/71 [==============================] - 77s 1s/step\n"
     ]
    }
   ],
   "source": [
    "srgan_hr_predictions = generator.predict(test_lr_images)"
   ]
  },
  {
   "cell_type": "code",
   "execution_count": 16,
   "metadata": {},
   "outputs": [],
   "source": [
    "min_val = 0\n",
    "max_val = 1\n",
    "# Clip values to the specified range\n",
    "srgan_hr_predictions = np.clip(srgan_hr_predictions, min_val, max_val)"
   ]
  },
  {
   "cell_type": "code",
   "execution_count": 41,
   "metadata": {},
   "outputs": [],
   "source": [
    "# def bicubic_upscale(image, scale_factor = 2):\n",
    "#     \"\"\"\n",
    "#     Perform bicubic interpolation for upscaling.\n",
    "\n",
    "#     Parameters:\n",
    "#         image (numpy.ndarray): Input image of shape (height, width, channels).\n",
    "#         scale_factor (float): Scaling factor.\n",
    "\n",
    "#     Returns:\n",
    "#         numpy.ndarray: Upscaled image.\n",
    "#     \"\"\"\n",
    "#     # Calculate the target height and width after upscaling\n",
    "#     target_height, target_width = map(int, np.array(image.shape[:2]) * scale_factor)\n",
    "\n",
    "#     # Perform bicubic interpolation using scipy.ndimage.zoom\n",
    "#     upscaled_image = zoom(image, (scale_factor, scale_factor, 1), order=3)\n",
    "\n",
    "#     return upscaled_image\n",
    "\n",
    "\n",
    "import cv2\n",
    "\n",
    "def bicubic_upscale(img, target_height=128, target_width=128):\n",
    "    \"\"\"\n",
    "    Perform bicubic interpolation to upscale the input image.\n",
    "\n",
    "    Parameters:\n",
    "        img (numpy.ndarray): Input image (HxWxC).\n",
    "        target_height (int): Desired height for upscaling.\n",
    "        target_width (int): Desired width for upscaling.\n",
    "\n",
    "    Returns:\n",
    "        numpy.ndarray: Upscaled image (target_height x target_width x C).\n",
    "    \"\"\"\n",
    "    # Perform bicubic interpolation\n",
    "    upscaled_img = cv2.resize(img, (target_width, target_height), interpolation=cv2.INTER_CUBIC)\n",
    "\n",
    "    return upscaled_img\n",
    "\n",
    "def nearest_upscale(img, target_height=128, target_width=128):\n",
    "    \"\"\"\n",
    "    Perform nearest-neighbor interpolation to upscale the input image.\n",
    "\n",
    "    Parameters:\n",
    "        img (numpy.ndarray): Input image (HxWxC).\n",
    "        target_height (int): Desired height for upscaling.\n",
    "        target_width (int): Desired width for upscaling.\n",
    "\n",
    "    Returns:\n",
    "        numpy.ndarray: Upscaled image (target_height x target_width x C).\n",
    "    \"\"\"\n",
    "    # Perform nearest-neighbor interpolation\n",
    "    upscaled_img = cv2.resize(img, (target_width, target_height), interpolation=cv2.INTER_NEAREST)\n",
    "\n",
    "    return upscaled_img"
   ]
  },
  {
   "cell_type": "code",
   "execution_count": 18,
   "metadata": {},
   "outputs": [],
   "source": [
    "def calculate_psnr(img1, img2):\n",
    "    \"\"\"\n",
    "    Calculate PSNR (Peak Signal-to-Noise Ratio) for a pair of images.\n",
    "\n",
    "    Parameters:\n",
    "    img1 (numpy.ndarray): Ground truth image.\n",
    "    img2 (numpy.ndarray): Predicted or reconstructed image.\n",
    "\n",
    "    Returns:\n",
    "    float: PSNR value.\n",
    "    \"\"\"\n",
    "    mse = np.mean((img1 - img2) ** 2)\n",
    "    if mse == 0:\n",
    "        return float('inf')\n",
    "    max_pixel = np.max(img1)\n",
    "    psnr = 10 * np.log10((max_pixel ** 2) / mse)\n",
    "    return psnr\n"
   ]
  },
  {
   "cell_type": "code",
   "execution_count": 19,
   "metadata": {},
   "outputs": [],
   "source": [
    "def ssim_score(img1, img2):\n",
    "    \"\"\"\n",
    "    Calculate SSIM (Structural Similarity Index) between two images.\n",
    "\n",
    "    Parameters:\n",
    "        img1 (numpy.ndarray): First input image (grayscale or color).\n",
    "        img2 (numpy.ndarray): Second input image (grayscale or color).\n",
    "\n",
    "    Returns:\n",
    "        float: SSIM value between -1 and 1.\n",
    "    \"\"\"\n",
    "    return calculate_ssim(img1, img2, multichannel=True)"
   ]
  },
  {
   "cell_type": "code",
   "execution_count": 21,
   "metadata": {},
   "outputs": [
    {
     "name": "stderr",
     "output_type": "stream",
     "text": [
      "/var/folders/pw/3vr89zzj1xvbzvtk1yfz9kkc0000gn/T/ipykernel_54901/2036621558.py:12: FutureWarning: `multichannel` is a deprecated argument name for `structural_similarity`. It will be removed in version 1.0. Please use `channel_axis` instead.\n",
      "  return calculate_ssim(img1, img2, multichannel=True)\n",
      "/Users/anwesh/opt/anaconda3/envs/tf/lib/python3.9/site-packages/skimage/_shared/utils.py:348: UserWarning: Inputs have mismatched dtype.  Setting data_range based on im1.dtype.\n",
      "  return func(*args, **kwargs)\n"
     ]
    }
   ],
   "source": [
    "srgan_psnr =[]\n",
    "srgan_ssim = []\n",
    "for pred, gt in zip(srgan_hr_predictions, test_hr_images):\n",
    "    srgan_psnr.append(calculate_psnr(pred, gt))\n",
    "    srgan_ssim.append(ssim_score(pred, gt))\n",
    "\n",
    "srgan_psnr_score = np.mean(srgan_psnr)\n",
    "srgan_ssim_score = np.mean(srgan_ssim)"
   ]
  },
  {
   "cell_type": "code",
   "execution_count": 45,
   "metadata": {},
   "outputs": [],
   "source": [
    "bicubic_interpolations = []\n",
    "nearest_interpolations = []\n",
    "\n",
    "for img in test_hr_images:\n",
    "    bicubic_interpolations.append(bicubic_upscale(img))\n",
    "    nearest_interpolations.append(nearest_upscale(img))\n"
   ]
  },
  {
   "cell_type": "code",
   "execution_count": 46,
   "metadata": {},
   "outputs": [
    {
     "name": "stderr",
     "output_type": "stream",
     "text": [
      "/var/folders/pw/3vr89zzj1xvbzvtk1yfz9kkc0000gn/T/ipykernel_54901/2036621558.py:12: FutureWarning: `multichannel` is a deprecated argument name for `structural_similarity`. It will be removed in version 1.0. Please use `channel_axis` instead.\n",
      "  return calculate_ssim(img1, img2, multichannel=True)\n"
     ]
    }
   ],
   "source": [
    "bicubic_psnr = []\n",
    "bicubic_ssim = []\n",
    "\n",
    "for pred, gt in zip(bicubic_interpolations, test_hr_images):\n",
    "    bicubic_psnr.append(calculate_psnr(pred, gt))\n",
    "    bicubic_ssim.append(ssim_score(pred, gt))\n",
    "\n",
    "bicubic_psnr_score = np.mean(bicubic_psnr)\n",
    "bicubic_ssim_score = np.mean(bicubic_ssim)"
   ]
  },
  {
   "cell_type": "code",
   "execution_count": 47,
   "metadata": {},
   "outputs": [
    {
     "name": "stderr",
     "output_type": "stream",
     "text": [
      "/var/folders/pw/3vr89zzj1xvbzvtk1yfz9kkc0000gn/T/ipykernel_54901/2036621558.py:12: FutureWarning: `multichannel` is a deprecated argument name for `structural_similarity`. It will be removed in version 1.0. Please use `channel_axis` instead.\n",
      "  return calculate_ssim(img1, img2, multichannel=True)\n"
     ]
    }
   ],
   "source": [
    "nearest_psnr = []\n",
    "nearest_ssim = []\n",
    "\n",
    "for pred, gt in zip(nearest_interpolations, test_hr_images):\n",
    "    nearest_psnr.append(calculate_psnr(pred, gt))\n",
    "    nearest_ssim.append(ssim_score(pred, gt))\n",
    "\n",
    "nearest_psnr_score = np.mean(nearest_psnr)\n",
    "nearest_ssim_score = np.mean(nearest_ssim)"
   ]
  },
  {
   "cell_type": "code",
   "execution_count": 48,
   "metadata": {},
   "outputs": [
    {
     "name": "stdout",
     "output_type": "stream",
     "text": [
      "SRGAN PSNR: 30.07404691783643\n",
      "SRGAN SSIM SCORE: 0.9633726477622986\n",
      "BICUBIC INTEROLATION PSNR: inf\n",
      "BICUBIC INTEROLATION SSIM SCORE: 1.0\n",
      "NEAREST INTEROLATION PSNR: inf\n",
      "NEAREST INTEROLATION SSIM SCORE: 1.0\n"
     ]
    }
   ],
   "source": [
    "print(f\"SRGAN PSNR: {srgan_psnr_score}\")\n",
    "print(f\"SRGAN SSIM SCORE: {srgan_ssim_score}\")\n",
    "\n",
    "print(f\"BICUBIC INTEROLATION PSNR: {bicubic_psnr_score}\")\n",
    "print(f\"BICUBIC INTEROLATION SSIM SCORE: {bicubic_ssim_score}\")\n",
    "\n",
    "print(f\"NEAREST INTEROLATION PSNR: {nearest_psnr_score}\")\n",
    "print(f\"NEAREST INTEROLATION SSIM SCORE: {nearest_ssim_score}\")"
   ]
  },
  {
   "cell_type": "code",
   "execution_count": null,
   "metadata": {},
   "outputs": [],
   "source": []
  }
 ],
 "metadata": {
  "kernelspec": {
   "display_name": "tf",
   "language": "python",
   "name": "python3"
  },
  "language_info": {
   "codemirror_mode": {
    "name": "ipython",
    "version": 3
   },
   "file_extension": ".py",
   "mimetype": "text/x-python",
   "name": "python",
   "nbconvert_exporter": "python",
   "pygments_lexer": "ipython3",
   "version": "3.9.16"
  },
  "orig_nbformat": 4
 },
 "nbformat": 4,
 "nbformat_minor": 2
}
