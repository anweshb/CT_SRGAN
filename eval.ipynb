{
 "cells": [
  {
   "cell_type": "code",
   "execution_count": 10,
   "metadata": {},
   "outputs": [],
   "source": [
    "import os\n",
    "import cv2\n",
    "import numpy as np\n",
    "import matplotlib.pyplot as plt\n",
    "from tensorflow.keras.models import Sequential, load_model\n",
    "from tensorflow.keras import layers, Model\n",
    "from sklearn.model_selection import train_test_split\n",
    "from tensorflow.keras.layers import Conv2D, PReLU,BatchNormalization, Flatten, UpSampling2D, LeakyReLU, Dense, Input, add\n",
    "from tensorflow.keras.applications import VGG19\n",
    "from tqdm import tqdm\n",
    "from PIL import Image\n",
    "import random\n",
    "from scipy.ndimage import zoom"
   ]
  },
  {
   "cell_type": "code",
   "execution_count": 2,
   "metadata": {},
   "outputs": [],
   "source": [
    "lr_images_path = '../data/lr_images'\n",
    "hr_images_path = '../data/hr_images'"
   ]
  },
  {
   "cell_type": "code",
   "execution_count": 3,
   "metadata": {},
   "outputs": [],
   "source": [
    "lr_filenames = sorted(os.listdir(lr_images_path))[:]\n",
    "hr_filenames = sorted(os.listdir(hr_images_path))[:]\n",
    "\n",
    "# Verify that the filenames match\n",
    "if lr_filenames != hr_filenames:\n",
    "    raise ValueError(\"Filenames in lr_images and hr_images do not match!\")"
   ]
  },
  {
   "cell_type": "code",
   "execution_count": 4,
   "metadata": {},
   "outputs": [],
   "source": [
    "lr_images = []\n",
    "hr_images = []\n",
    "\n",
    "\n",
    "for img_name in lr_filenames:\n",
    "    lr_img = Image.open(os.path.join(lr_images_path, img_name))\n",
    "    hr_img = Image.open(os.path.join(hr_images_path, img_name))\n",
    "    \n",
    "    # Convert grayscale images to RGB format\n",
    "    if lr_img.mode != 'RGB':\n",
    "        lr_img = lr_img.convert('RGB')\n",
    "        \n",
    "    if hr_img.mode != 'RGB':\n",
    "        hr_img = hr_img.convert('RGB')\n",
    "    \n",
    "    lr_img = np.asarray(lr_img)\n",
    "    hr_img = np.asarray(hr_img)\n",
    "    \n",
    "    lr_images.append(lr_img)\n",
    "    hr_images.append(hr_img)"
   ]
  },
  {
   "cell_type": "code",
   "execution_count": 5,
   "metadata": {},
   "outputs": [
    {
     "name": "stdout",
     "output_type": "stream",
     "text": [
      "LR Images Array Shape: (15129, 64, 64, 3)\n",
      "HR Images Array Shape: (15129, 128, 128, 3)\n"
     ]
    }
   ],
   "source": [
    "lr_images_array = np.stack(lr_images)\n",
    "hr_images_array = np.stack(hr_images)\n",
    "\n",
    "print(\"LR Images Array Shape:\", lr_images_array.shape)\n",
    "print(\"HR Images Array Shape:\", hr_images_array.shape)"
   ]
  },
  {
   "cell_type": "code",
   "execution_count": 8,
   "metadata": {},
   "outputs": [],
   "source": [
    "# Split the data into training, validation, and test sets\n",
    "random_seed = 42 \n",
    "\n",
    "train_lr_images, val_test_lr_images, train_hr_images, val_test_hr_images = train_test_split(\n",
    "    lr_images_array, hr_images_array, test_size=0.3, random_state=random_seed\n",
    ")\n",
    "\n",
    "val_lr_images, test_lr_images, val_hr_images, test_hr_images = train_test_split(\n",
    "    val_test_lr_images, val_test_hr_images, test_size=0.5, random_state=random_seed\n",
    ")"
   ]
  },
  {
   "cell_type": "code",
   "execution_count": 6,
   "metadata": {},
   "outputs": [
    {
     "name": "stderr",
     "output_type": "stream",
     "text": [
      "2023-09-20 02:51:49.588430: I tensorflow/core/common_runtime/pluggable_device/pluggable_device_factory.cc:306] Could not identify NUMA node of platform GPU ID 0, defaulting to 0. Your kernel may not have been built with NUMA support.\n",
      "2023-09-20 02:51:49.589818: I tensorflow/core/common_runtime/pluggable_device/pluggable_device_factory.cc:272] Created TensorFlow device (/job:localhost/replica:0/task:0/device:GPU:0 with 0 MB memory) -> physical PluggableDevice (device: 0, name: METAL, pci bus id: <undefined>)\n"
     ]
    },
    {
     "name": "stdout",
     "output_type": "stream",
     "text": [
      "Metal device set to: Apple M2\n",
      "\n",
      "systemMemory: 8.00 GB\n",
      "maxCacheSize: 2.67 GB\n",
      "\n",
      "WARNING:tensorflow:No training configuration found in the save file, so the model was *not* compiled. Compile it manually.\n"
     ]
    }
   ],
   "source": [
    "generator = load_model('results/generator_ckpts/gen_e_8.h5')"
   ]
  },
  {
   "cell_type": "code",
   "execution_count": 9,
   "metadata": {},
   "outputs": [
    {
     "name": "stderr",
     "output_type": "stream",
     "text": [
      "2023-09-20 02:52:37.118048: W tensorflow/core/platform/profile_utils/cpu_utils.cc:128] Failed to get CPU frequency: 0 Hz\n",
      "2023-09-20 02:52:38.615523: I tensorflow/core/grappler/optimizers/custom_graph_optimizer_registry.cc:114] Plugin optimizer for device_type GPU is enabled.\n"
     ]
    },
    {
     "name": "stdout",
     "output_type": "stream",
     "text": [
      "71/71 [==============================] - 76s 1s/step\n"
     ]
    }
   ],
   "source": [
    "srgan_hr_predictions = generator.predict(test_lr_images)"
   ]
  },
  {
   "cell_type": "code",
   "execution_count": 14,
   "metadata": {},
   "outputs": [],
   "source": [
    "def upscale_bicubic(images, scale_factor = 2):\n",
    "    # Upscale using bicubic interpolation\n",
    "    upscaled_images = zoom(images, zoom=(1, scale_factor, scale_factor, 1), order=3)\n",
    "    return upscaled_images"
   ]
  },
  {
   "cell_type": "code",
   "execution_count": 15,
   "metadata": {},
   "outputs": [],
   "source": [
    "def upscale_nearest(images, scale_factor = 2):\n",
    "    # Upscale using nearest-neighbor interpolation\n",
    "    upscaled_images = zoom(images, zoom=(1, scale_factor, scale_factor, 1), order=0)\n",
    "    return upscaled_images"
   ]
  },
  {
   "cell_type": "code",
   "execution_count": 16,
   "metadata": {},
   "outputs": [],
   "source": [
    "bicubic_interpolation = upscale_bicubic(test_lr_images)\n",
    "\n",
    "nearest_interpolation = upscale_nearest(test_lr_images)"
   ]
  },
  {
   "cell_type": "code",
   "execution_count": 17,
   "metadata": {},
   "outputs": [
    {
     "data": {
      "text/plain": [
       "numpy.ndarray"
      ]
     },
     "execution_count": 17,
     "metadata": {},
     "output_type": "execute_result"
    }
   ],
   "source": [
    "type(bicubic_interpolation)"
   ]
  },
  {
   "cell_type": "code",
   "execution_count": null,
   "metadata": {},
   "outputs": [],
   "source": []
  }
 ],
 "metadata": {
  "kernelspec": {
   "display_name": "tf",
   "language": "python",
   "name": "python3"
  },
  "language_info": {
   "codemirror_mode": {
    "name": "ipython",
    "version": 3
   },
   "file_extension": ".py",
   "mimetype": "text/x-python",
   "name": "python",
   "nbconvert_exporter": "python",
   "pygments_lexer": "ipython3",
   "version": "3.9.16"
  },
  "orig_nbformat": 4
 },
 "nbformat": 4,
 "nbformat_minor": 2
}
