{
 "cells": [
  {
   "cell_type": "code",
   "execution_count": 1,
   "id": "f0aba2dd",
   "metadata": {},
   "outputs": [],
   "source": [
    "import os\n",
    "import random\n",
    "from PIL import Image\n",
    "import matplotlib.pyplot as plt\n",
    "from matplotlib.gridspec import GridSpec"
   ]
  },
  {
   "cell_type": "code",
   "execution_count": 2,
   "id": "be3e8e83",
   "metadata": {},
   "outputs": [],
   "source": [
    "data_dir = '../scratch/lung_images/'\n",
    "original_data_path = os.path.join(data_dir,'original')\n",
    "new_data_path = os.path.join(data_dir, 'data')"
   ]
  },
  {
   "cell_type": "code",
   "execution_count": 3,
   "id": "21d6c9f3",
   "metadata": {},
   "outputs": [
    {
     "name": "stdout",
     "output_type": "stream",
     "text": [
      "['original', 'data']\n",
      "['covid', 'lung_opacity', 'pneumonia', 'normal']\n",
      "[]\n"
     ]
    }
   ],
   "source": [
    "print(os.listdir(data_dir))\n",
    "print(os.listdir(original_data_path))\n",
    "print(os.listdir(new_data_path))"
   ]
  },
  {
   "cell_type": "code",
   "execution_count": 4,
   "id": "520f2378",
   "metadata": {},
   "outputs": [
    {
     "name": "stdout",
     "output_type": "stream",
     "text": [
      "covid 1149\n",
      "lung_opacity 6010\n",
      "pneumonia 1345\n",
      "normal 6625\n"
     ]
    }
   ],
   "source": [
    "classes = os.listdir(original_data_path)\n",
    "\n",
    "for c in classes:\n",
    "    print(c, len(os.listdir((os.path.join(original_data_path, c)))))"
   ]
  },
  {
   "cell_type": "code",
   "execution_count": 5,
   "id": "cbf79b2b",
   "metadata": {},
   "outputs": [],
   "source": [
    "hr_images_dir = os.path.join(new_data_path, 'hr_images')\n",
    "lr_images_dir = os.path.join(new_data_path, 'lr_images')"
   ]
  },
  {
   "cell_type": "code",
   "execution_count": 10,
   "id": "40937c5e",
   "metadata": {},
   "outputs": [],
   "source": [
    "# os.mkdir(hr_images_dir)\n",
    "# os.mkdir(lr_images_dir)"
   ]
  },
  {
   "cell_type": "code",
   "execution_count": 6,
   "id": "bfca208b",
   "metadata": {},
   "outputs": [],
   "source": [
    "img = Image.open(original_data_path + '/covid/COVID-1.png')"
   ]
  },
  {
   "cell_type": "code",
   "execution_count": 7,
   "id": "cf6a6ea9",
   "metadata": {},
   "outputs": [
    {
     "data": {
      "text/plain": [
       "(299, 299)"
      ]
     },
     "execution_count": 7,
     "metadata": {},
     "output_type": "execute_result"
    }
   ],
   "source": [
    "img.size"
   ]
  },
  {
   "cell_type": "code",
   "execution_count": 8,
   "id": "a49587d3",
   "metadata": {},
   "outputs": [
    {
     "name": "stdout",
     "output_type": "stream",
     "text": [
      "Total Deleted Images: 0\n"
     ]
    }
   ],
   "source": [
    "deleted_imgs = 0\n",
    "\n",
    "for classes in os.listdir(original_data_path):\n",
    "    \n",
    "    curr_class_path = os.path.join(original_data_path, classes)\n",
    "    \n",
    "    for images in os.listdir(curr_class_path):\n",
    "        \n",
    "        curr_img_path = os.path.join(curr_class_path, images)\n",
    "        \n",
    "        try:\n",
    "            img = Image.open(curr_img_path)\n",
    "            \n",
    "            if img.size != (299,299):\n",
    "                print(images, img.size)\n",
    "        \n",
    "        except:\n",
    "            \n",
    "            print(\"Removing\",images)\n",
    "            os.remove(curr_img_path)\n",
    "            \n",
    "            deleted_imgs += 1\n",
    "            \n",
    "\n",
    "print(\"Total Deleted Images:\",deleted_imgs)\n",
    "            \n",
    "            "
   ]
  },
  {
   "cell_type": "code",
   "execution_count": 11,
   "id": "d312d3fa",
   "metadata": {},
   "outputs": [
    {
     "name": "stderr",
     "output_type": "stream",
     "text": [
      "/home/cse/visitor/anwesh.visitor/.conda/envs/tf/lib/python3.7/site-packages/ipykernel_launcher.py:11: DeprecationWarning: ANTIALIAS is deprecated and will be removed in Pillow 10 (2023-07-01). Use LANCZOS or Resampling.LANCZOS instead.\n",
      "  # This is added back by InteractiveShellApp.init_path()\n",
      "/home/cse/visitor/anwesh.visitor/.conda/envs/tf/lib/python3.7/site-packages/ipykernel_launcher.py:14: DeprecationWarning: ANTIALIAS is deprecated and will be removed in Pillow 10 (2023-07-01). Use LANCZOS or Resampling.LANCZOS instead.\n",
      "  \n"
     ]
    }
   ],
   "source": [
    "for classes in os.listdir(original_data_path):\n",
    "    \n",
    "    curr_class_path = os.path.join(original_data_path, classes)\n",
    "    \n",
    "    for images in os.listdir(curr_class_path):\n",
    "        \n",
    "        curr_img_path = os.path.join(curr_class_path, images)\n",
    "        \n",
    "        img = Image.open(curr_img_path)\n",
    "        \n",
    "        lr_img = img.resize((64, 64), Image.ANTIALIAS)\n",
    "        lr_img.save(os.path.join(lr_images_dir,  images))\n",
    "        \n",
    "        hr_img = img.resize((128, 128), Image.ANTIALIAS)\n",
    "        hr_img.save(os.path.join(hr_images_dir, images))"
   ]
  },
  {
   "cell_type": "code",
   "execution_count": null,
   "id": "e12a71eb",
   "metadata": {},
   "outputs": [],
   "source": [
    "# List image files in the folders\n",
    "\n",
    "num_pairs = 1\n",
    "\n",
    "lr_image_files = sorted(os.listdir(lr_images_dir))[:num_pairs]  \n",
    "hr_image_files = sorted(os.listdir(hr_images_dir))[:num_pairs]  \n",
    "\n",
    "# Choose a random pair\n",
    "random_index = random.randint(0, len(lr_image_files) - 1)\n",
    "lr_image_path = os.path.join(lr_images_dir, lr_image_files[random_index])\n",
    "hr_image_path = os.path.join(hr_images_dir, hr_image_files[random_index])\n",
    "\n",
    "# Open and display the images\n",
    "lr_image = Image.open(lr_image_path)\n",
    "hr_image = Image.open(hr_image_path)\n",
    "\n",
    "fig, axes = plt.subplots(1, 2, figsize=(10, 5))\n",
    "\n",
    "axes[0].imshow(lr_image, cmap = 'gray')\n",
    "axes[0].set_title(\"Low Resolution (LR)\")\n",
    "axes[0].axis(\"off\")\n",
    "\n",
    "axes[1].imshow(hr_image, cmap = 'gray')\n",
    "axes[1].set_title(\"High Resolution (HR)\")\n",
    "axes[1].axis(\"off\")\n",
    "\n",
    "plt.tight_layout()\n",
    "plt.show()"
   ]
  },
  {
   "cell_type": "code",
   "execution_count": null,
   "id": "ccd62b2b",
   "metadata": {},
   "outputs": [],
   "source": [
    "print(len(os.listdir(lr_images_dir)))\n",
    "print(len(os.listdir(hr_images_dir)))"
   ]
  },
  {
   "cell_type": "code",
   "execution_count": null,
   "id": "a38c9dcd",
   "metadata": {},
   "outputs": [],
   "source": []
  }
 ],
 "metadata": {
  "kernelspec": {
   "display_name": "Python 3 (ipykernel)",
   "language": "python",
   "name": "python3"
  },
  "language_info": {
   "codemirror_mode": {
    "name": "ipython",
    "version": 3
   },
   "file_extension": ".py",
   "mimetype": "text/x-python",
   "name": "python",
   "nbconvert_exporter": "python",
   "pygments_lexer": "ipython3",
   "version": "3.7.16"
  }
 },
 "nbformat": 4,
 "nbformat_minor": 5
}
